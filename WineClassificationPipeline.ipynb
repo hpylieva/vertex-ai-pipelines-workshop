{
  "cells": [
    {
      "cell_type": "markdown",
      "id": "3a58281c",
      "metadata": {
        "id": "3a58281c"
      },
      "source": [
        "# Setup use case Wine "
      ]
    },
    {
      "cell_type": "markdown",
      "id": "08f0d145",
      "metadata": {
        "id": "08f0d145"
      },
      "source": [
        "### Set up the auto completion"
      ]
    },
    {
      "cell_type": "code",
      "execution_count": null,
      "id": "a66c08dd",
      "metadata": {
        "id": "a66c08dd"
      },
      "outputs": [],
      "source": [
        "#install auto-completion \n",
        "#!pip install jupyter_contrib_nbextensions\n",
        "#!jupyter contrib nbextension install --user\n",
        "#from jedi import settings\n",
        "#settings.case_insensitive_completion = True"
      ]
    },
    {
      "cell_type": "markdown",
      "id": "d1a80b81",
      "metadata": {
        "id": "d1a80b81"
      },
      "source": [
        "### Set up the environment \n",
        "- Python 3\n",
        "- virtualenv\n",
        "- Jupyter notebook running in a virtual environment with Python 3\n",
        "- Docker\n",
        "- Git\n",
        "- Google Cloud SDK (gcloud)"
      ]
    },
    {
      "cell_type": "markdown",
      "id": "66c7d622",
      "metadata": {
        "id": "66c7d622"
      },
      "source": [
        "### Enable  the APIs if they are not enabled "
      ]
    },
    {
      "cell_type": "code",
      "source": [
        "!gcloud config set project platinum-avenue-272410"
      ],
      "metadata": {
        "colab": {
          "base_uri": "https://localhost:8080/"
        },
        "id": "qvCuG1inZIOn",
        "outputId": "9ce4078b-b5bb-47d8-eba7-aec4ec3d64a7"
      },
      "id": "qvCuG1inZIOn",
      "execution_count": 14,
      "outputs": [
        {
          "output_type": "stream",
          "name": "stdout",
          "text": [
            "Updated property [core/project].\n"
          ]
        }
      ]
    },
    {
      "cell_type": "code",
      "source": [
        "!gcloud auth login"
      ],
      "metadata": {
        "colab": {
          "base_uri": "https://localhost:8080/"
        },
        "id": "ZYfdrwExZg8b",
        "outputId": "f5ade889-a16a-454d-b305-760044079916"
      },
      "id": "ZYfdrwExZg8b",
      "execution_count": 1,
      "outputs": [
        {
          "output_type": "stream",
          "name": "stdout",
          "text": [
            "Go to the following link in your browser:\n",
            "\n",
            "    https://accounts.google.com/o/oauth2/auth?response_type=code&client_id=32555940559.apps.googleusercontent.com&redirect_uri=https%3A%2F%2Fsdk.cloud.google.com%2Fauthcode.html&scope=openid+https%3A%2F%2Fwww.googleapis.com%2Fauth%2Fuserinfo.email+https%3A%2F%2Fwww.googleapis.com%2Fauth%2Fcloud-platform+https%3A%2F%2Fwww.googleapis.com%2Fauth%2Fappengine.admin+https%3A%2F%2Fwww.googleapis.com%2Fauth%2Fsqlservice.login+https%3A%2F%2Fwww.googleapis.com%2Fauth%2Fcompute+https%3A%2F%2Fwww.googleapis.com%2Fauth%2Faccounts.reauth&state=Wu0gM4gslvCFzvk6xTIYb7cScs1MCN&prompt=consent&access_type=offline&code_challenge=JZPm6Qv-zgTUM_xjYaxSg4e3zPpfH4623HHXyvrpAFY&code_challenge_method=S256\n",
            "\n",
            "Enter authorization code: 4/0AWtgzh5OUUQWv7DT812V7u4EPZHg0JIhLl7SpYy05uzzbkEAKGU2sby1usJT4J9ljIm4eQ\n",
            "\n",
            "You are now logged in as [pylyeva@gmail.com].\n",
            "Your current project is [platinum-avenue-272410].  You can change this setting by running:\n",
            "  $ gcloud config set project PROJECT_ID\n"
          ]
        }
      ]
    },
    {
      "cell_type": "code",
      "execution_count": 5,
      "id": "ce260c53",
      "metadata": {
        "colab": {
          "base_uri": "https://localhost:8080/"
        },
        "id": "ce260c53",
        "outputId": "3a76f14b-5d09-426e-b2c6-e86a373ffd46"
      },
      "outputs": [
        {
          "output_type": "stream",
          "name": "stdout",
          "text": [
            "\u001b[1;31mERROR:\u001b[0m (gcloud.services.enable) FAILED_PRECONDITION: Billing account for project '123048806287' is not found. Billing must be enabled for activation of service(s) 'compute.googleapis.com,compute.googleapis.com,compute.googleapis.com,containerregistry.googleapis.com,aiplatform.googleapis.com,cloudbuild.googleapis.com' to proceed.\n",
            "Help Token: AVUsNs3_GiEaqBn3YOqASw_QPN5UvfJDHbP7Ouq4IxSSgxUmNtLmiztFoMDEqAptaP8Pu0QrOF3gt6WZ840-yrwlcI1Ck9iOf-UXuhcoVDaHwT2X\n",
            "- '@type': type.googleapis.com/google.rpc.PreconditionFailure\n",
            "  violations:\n",
            "  - subject: ?error_code=390001&project=123048806287&services=compute.googleapis.com&services=compute.googleapis.com&services=compute.googleapis.com&services=containerregistry.googleapis.com&services=aiplatform.googleapis.com&services=cloudbuild.googleapis.com\n",
            "    type: googleapis.com/billing-enabled\n",
            "- '@type': type.googleapis.com/google.rpc.ErrorInfo\n",
            "  domain: serviceusage.googleapis.com/billing-enabled\n",
            "  metadata:\n",
            "    project: '123048806287'\n",
            "    services: compute.googleapis.com,compute.googleapis.com,compute.googleapis.com,containerregistry.googleapis.com,aiplatform.googleapis.com,cloudbuild.googleapis.com\n",
            "  reason: UREQ_PROJECT_BILLING_NOT_FOUND\n"
          ]
        }
      ],
      "source": [
        "!gcloud services enable compute.googleapis.com         \\\n",
        "                       containerregistry.googleapis.com  \\\n",
        "                       aiplatform.googleapis.com  \\\n",
        "                       cloudbuild.googleapis.com \\\n",
        "                       cloudfunctions.googleapis.com"
      ]
    },
    {
      "cell_type": "markdown",
      "id": "a829d243",
      "metadata": {
        "id": "a829d243"
      },
      "source": [
        "## Uncomment all needed cells if you need to install missing packages "
      ]
    },
    {
      "cell_type": "code",
      "execution_count": null,
      "id": "689753be",
      "metadata": {
        "id": "689753be"
      },
      "outputs": [],
      "source": [
        "# Install ai platform and kfp\n",
        "#!pip3 install {USER_FLAG} google-cloud-aiplatform==1.3.0 --upgrade\n",
        "#!pip3 install {USER_FLAG} kfp --upgrade"
      ]
    },
    {
      "cell_type": "code",
      "execution_count": null,
      "id": "dfa761c6",
      "metadata": {
        "id": "dfa761c6"
      },
      "outputs": [],
      "source": [
        "#!pip install google_cloud_pipeline_components"
      ]
    },
    {
      "cell_type": "code",
      "execution_count": null,
      "id": "ba102fa0",
      "metadata": {
        "id": "ba102fa0"
      },
      "outputs": [],
      "source": [
        "#!gcloud auth login if needed"
      ]
    },
    {
      "cell_type": "code",
      "execution_count": 2,
      "id": "d9ceae6c",
      "metadata": {
        "id": "d9ceae6c"
      },
      "outputs": [],
      "source": [
        "# Restart the kernel\n",
        "import os\n",
        "\n",
        "if not os.getenv(\"IS_TESTING\"):\n",
        "    # Automatically restart kernel after installs\n",
        "    import IPython\n",
        "\n",
        "    app = IPython.Application.instance()\n",
        "    app.kernel.do_shutdown(True)\n"
      ]
    },
    {
      "cell_type": "markdown",
      "id": "f0c08242",
      "metadata": {
        "id": "f0c08242"
      },
      "source": [
        "#### Set up the global variables "
      ]
    },
    {
      "cell_type": "code",
      "execution_count": 1,
      "id": "e4377cd5",
      "metadata": {
        "colab": {
          "base_uri": "https://localhost:8080/"
        },
        "id": "e4377cd5",
        "outputId": "797c9ac0-fdff-46cc-d558-412270060d9f"
      },
      "outputs": [
        {
          "output_type": "stream",
          "name": "stdout",
          "text": [
            "env: PATH=/opt/bin:/usr/local/nvidia/bin:/usr/local/cuda/bin:/usr/local/sbin:/usr/local/bin:/usr/sbin:/usr/bin:/sbin:/bin:/tools/node/bin:/tools/google-cloud-sdk/bin:/home/jupyter/.local/bin\n"
          ]
        }
      ],
      "source": [
        "PATH=%env PATH\n",
        "%env PATH={PATH}:/home/jupyter/.local/bin\n",
        "REGION=\"europe-west1\"\n",
        "\n",
        "# Get projet name\n",
        "shell_output=!gcloud config get-value project 2> /dev/null\n",
        "PROJECT_ID=shell_output[0]\n",
        "\n",
        "# Set bucket name\n",
        "BUCKET_NAME=\"gs://\"+PROJECT_ID+\"-bucket-winequality\"\n",
        "\n",
        "# Create bucket\n",
        "PIPELINE_ROOT = f\"{BUCKET_NAME}/pipeline_root_wine/\"\n",
        "PIPELINE_ROOT\n",
        "\n",
        "USER_FLAG = \"--user\"\n"
      ]
    },
    {
      "cell_type": "code",
      "source": [],
      "metadata": {
        "id": "qxTBXtAyc_tQ"
      },
      "id": "qxTBXtAyc_tQ",
      "execution_count": null,
      "outputs": []
    },
    {
      "cell_type": "markdown",
      "id": "77c4c16c",
      "metadata": {
        "id": "77c4c16c"
      },
      "source": [
        "## Import Libraries\n",
        " * Artifact,\n",
        " * Dataset,\n",
        " * Input,\n",
        " * Model,\n",
        " * Output,\n",
        " * Metrics,\n",
        " * ClassificationMetrics\n",
        " * InputPath\n",
        " * OutputPath"
      ]
    },
    {
      "cell_type": "code",
      "source": [
        "!pip install kfp"
      ],
      "metadata": {
        "id": "hRWyWH5MZ3Ud"
      },
      "id": "hRWyWH5MZ3Ud",
      "execution_count": null,
      "outputs": []
    },
    {
      "cell_type": "code",
      "source": [
        "!pip install google-cloud-aiplatform"
      ],
      "metadata": {
        "id": "kJh3lhigaIdl"
      },
      "id": "kJh3lhigaIdl",
      "execution_count": null,
      "outputs": []
    },
    {
      "cell_type": "code",
      "source": [
        "!pip install pip install google-cloud-pipeline-components"
      ],
      "metadata": {
        "id": "H15VtlHMaZaC"
      },
      "id": "H15VtlHMaZaC",
      "execution_count": null,
      "outputs": []
    },
    {
      "cell_type": "code",
      "execution_count": 2,
      "id": "95845cc3",
      "metadata": {
        "id": "95845cc3"
      },
      "outputs": [],
      "source": [
        "from typing import NamedTuple\n",
        "import typing\n",
        "from kfp.v2 import dsl\n",
        "from kfp.v2.dsl import (Artifact,\n",
        "                        Dataset,\n",
        "                        Input,\n",
        "                        Model,\n",
        "                        Output,\n",
        "                        Metrics,\n",
        "                        ClassificationMetrics,\n",
        "                        component, \n",
        "                        OutputPath, \n",
        "                        InputPath)\n",
        "\n",
        "from kfp.v2 import compiler\n",
        "from google.cloud import bigquery\n",
        "from google.cloud import aiplatform\n",
        "from google.cloud.aiplatform import pipeline_jobs\n",
        "from google_cloud_pipeline_components import aiplatform as gcc_aip\n",
        "\n"
      ]
    },
    {
      "cell_type": "markdown",
      "id": "459d2b87",
      "metadata": {
        "id": "459d2b87"
      },
      "source": [
        "### Create pipeline\n",
        "\n",
        "We create 4 components:  \n",
        "- Load data   \n",
        "- Train a  model\n",
        "- Evaluate the model \n",
        "- Deploy the model\n",
        "\n",
        "The components have dependencies on `pandas`, `sklearn`."
      ]
    },
    {
      "cell_type": "code",
      "execution_count": 3,
      "id": "5bd2d50e",
      "metadata": {
        "colab": {
          "base_uri": "https://localhost:8080/",
          "height": 424
        },
        "id": "5bd2d50e",
        "outputId": "5d8e429c-f6f4-49fb-c218-f27776e905e0"
      },
      "outputs": [
        {
          "output_type": "execute_result",
          "data": {
            "text/plain": [
              "      fixed acidity  volatile acidity  citric acid  residual sugar  chlorides  \\\n",
              "0               7.0              0.27         0.36            20.7      0.045   \n",
              "1               6.3              0.30         0.34             1.6      0.049   \n",
              "2               8.1              0.28         0.40             6.9      0.050   \n",
              "3               7.2              0.23         0.32             8.5      0.058   \n",
              "4               7.2              0.23         0.32             8.5      0.058   \n",
              "...             ...               ...          ...             ...        ...   \n",
              "4893            6.2              0.21         0.29             1.6      0.039   \n",
              "4894            6.6              0.32         0.36             8.0      0.047   \n",
              "4895            6.5              0.24         0.19             1.2      0.041   \n",
              "4896            5.5              0.29         0.30             1.1      0.022   \n",
              "4897            6.0              0.21         0.38             0.8      0.020   \n",
              "\n",
              "      free sulfur dioxide  total sulfur dioxide  density    pH  sulphates  \\\n",
              "0                    45.0                 170.0  1.00100  3.00       0.45   \n",
              "1                    14.0                 132.0  0.99400  3.30       0.49   \n",
              "2                    30.0                  97.0  0.99510  3.26       0.44   \n",
              "3                    47.0                 186.0  0.99560  3.19       0.40   \n",
              "4                    47.0                 186.0  0.99560  3.19       0.40   \n",
              "...                   ...                   ...      ...   ...        ...   \n",
              "4893                 24.0                  92.0  0.99114  3.27       0.50   \n",
              "4894                 57.0                 168.0  0.99490  3.15       0.46   \n",
              "4895                 30.0                 111.0  0.99254  2.99       0.46   \n",
              "4896                 20.0                 110.0  0.98869  3.34       0.38   \n",
              "4897                 22.0                  98.0  0.98941  3.26       0.32   \n",
              "\n",
              "      alcohol  quality  \n",
              "0         8.8        6  \n",
              "1         9.5        6  \n",
              "2        10.1        6  \n",
              "3         9.9        6  \n",
              "4         9.9        6  \n",
              "...       ...      ...  \n",
              "4893     11.2        6  \n",
              "4894      9.6        5  \n",
              "4895      9.4        6  \n",
              "4896     12.8        7  \n",
              "4897     11.8        6  \n",
              "\n",
              "[4898 rows x 12 columns]"
            ],
            "text/html": [
              "\n",
              "  <div id=\"df-61e2bb3a-3d19-4014-88bb-f2488dd07fbe\">\n",
              "    <div class=\"colab-df-container\">\n",
              "      <div>\n",
              "<style scoped>\n",
              "    .dataframe tbody tr th:only-of-type {\n",
              "        vertical-align: middle;\n",
              "    }\n",
              "\n",
              "    .dataframe tbody tr th {\n",
              "        vertical-align: top;\n",
              "    }\n",
              "\n",
              "    .dataframe thead th {\n",
              "        text-align: right;\n",
              "    }\n",
              "</style>\n",
              "<table border=\"1\" class=\"dataframe\">\n",
              "  <thead>\n",
              "    <tr style=\"text-align: right;\">\n",
              "      <th></th>\n",
              "      <th>fixed acidity</th>\n",
              "      <th>volatile acidity</th>\n",
              "      <th>citric acid</th>\n",
              "      <th>residual sugar</th>\n",
              "      <th>chlorides</th>\n",
              "      <th>free sulfur dioxide</th>\n",
              "      <th>total sulfur dioxide</th>\n",
              "      <th>density</th>\n",
              "      <th>pH</th>\n",
              "      <th>sulphates</th>\n",
              "      <th>alcohol</th>\n",
              "      <th>quality</th>\n",
              "    </tr>\n",
              "  </thead>\n",
              "  <tbody>\n",
              "    <tr>\n",
              "      <th>0</th>\n",
              "      <td>7.0</td>\n",
              "      <td>0.27</td>\n",
              "      <td>0.36</td>\n",
              "      <td>20.7</td>\n",
              "      <td>0.045</td>\n",
              "      <td>45.0</td>\n",
              "      <td>170.0</td>\n",
              "      <td>1.00100</td>\n",
              "      <td>3.00</td>\n",
              "      <td>0.45</td>\n",
              "      <td>8.8</td>\n",
              "      <td>6</td>\n",
              "    </tr>\n",
              "    <tr>\n",
              "      <th>1</th>\n",
              "      <td>6.3</td>\n",
              "      <td>0.30</td>\n",
              "      <td>0.34</td>\n",
              "      <td>1.6</td>\n",
              "      <td>0.049</td>\n",
              "      <td>14.0</td>\n",
              "      <td>132.0</td>\n",
              "      <td>0.99400</td>\n",
              "      <td>3.30</td>\n",
              "      <td>0.49</td>\n",
              "      <td>9.5</td>\n",
              "      <td>6</td>\n",
              "    </tr>\n",
              "    <tr>\n",
              "      <th>2</th>\n",
              "      <td>8.1</td>\n",
              "      <td>0.28</td>\n",
              "      <td>0.40</td>\n",
              "      <td>6.9</td>\n",
              "      <td>0.050</td>\n",
              "      <td>30.0</td>\n",
              "      <td>97.0</td>\n",
              "      <td>0.99510</td>\n",
              "      <td>3.26</td>\n",
              "      <td>0.44</td>\n",
              "      <td>10.1</td>\n",
              "      <td>6</td>\n",
              "    </tr>\n",
              "    <tr>\n",
              "      <th>3</th>\n",
              "      <td>7.2</td>\n",
              "      <td>0.23</td>\n",
              "      <td>0.32</td>\n",
              "      <td>8.5</td>\n",
              "      <td>0.058</td>\n",
              "      <td>47.0</td>\n",
              "      <td>186.0</td>\n",
              "      <td>0.99560</td>\n",
              "      <td>3.19</td>\n",
              "      <td>0.40</td>\n",
              "      <td>9.9</td>\n",
              "      <td>6</td>\n",
              "    </tr>\n",
              "    <tr>\n",
              "      <th>4</th>\n",
              "      <td>7.2</td>\n",
              "      <td>0.23</td>\n",
              "      <td>0.32</td>\n",
              "      <td>8.5</td>\n",
              "      <td>0.058</td>\n",
              "      <td>47.0</td>\n",
              "      <td>186.0</td>\n",
              "      <td>0.99560</td>\n",
              "      <td>3.19</td>\n",
              "      <td>0.40</td>\n",
              "      <td>9.9</td>\n",
              "      <td>6</td>\n",
              "    </tr>\n",
              "    <tr>\n",
              "      <th>...</th>\n",
              "      <td>...</td>\n",
              "      <td>...</td>\n",
              "      <td>...</td>\n",
              "      <td>...</td>\n",
              "      <td>...</td>\n",
              "      <td>...</td>\n",
              "      <td>...</td>\n",
              "      <td>...</td>\n",
              "      <td>...</td>\n",
              "      <td>...</td>\n",
              "      <td>...</td>\n",
              "      <td>...</td>\n",
              "    </tr>\n",
              "    <tr>\n",
              "      <th>4893</th>\n",
              "      <td>6.2</td>\n",
              "      <td>0.21</td>\n",
              "      <td>0.29</td>\n",
              "      <td>1.6</td>\n",
              "      <td>0.039</td>\n",
              "      <td>24.0</td>\n",
              "      <td>92.0</td>\n",
              "      <td>0.99114</td>\n",
              "      <td>3.27</td>\n",
              "      <td>0.50</td>\n",
              "      <td>11.2</td>\n",
              "      <td>6</td>\n",
              "    </tr>\n",
              "    <tr>\n",
              "      <th>4894</th>\n",
              "      <td>6.6</td>\n",
              "      <td>0.32</td>\n",
              "      <td>0.36</td>\n",
              "      <td>8.0</td>\n",
              "      <td>0.047</td>\n",
              "      <td>57.0</td>\n",
              "      <td>168.0</td>\n",
              "      <td>0.99490</td>\n",
              "      <td>3.15</td>\n",
              "      <td>0.46</td>\n",
              "      <td>9.6</td>\n",
              "      <td>5</td>\n",
              "    </tr>\n",
              "    <tr>\n",
              "      <th>4895</th>\n",
              "      <td>6.5</td>\n",
              "      <td>0.24</td>\n",
              "      <td>0.19</td>\n",
              "      <td>1.2</td>\n",
              "      <td>0.041</td>\n",
              "      <td>30.0</td>\n",
              "      <td>111.0</td>\n",
              "      <td>0.99254</td>\n",
              "      <td>2.99</td>\n",
              "      <td>0.46</td>\n",
              "      <td>9.4</td>\n",
              "      <td>6</td>\n",
              "    </tr>\n",
              "    <tr>\n",
              "      <th>4896</th>\n",
              "      <td>5.5</td>\n",
              "      <td>0.29</td>\n",
              "      <td>0.30</td>\n",
              "      <td>1.1</td>\n",
              "      <td>0.022</td>\n",
              "      <td>20.0</td>\n",
              "      <td>110.0</td>\n",
              "      <td>0.98869</td>\n",
              "      <td>3.34</td>\n",
              "      <td>0.38</td>\n",
              "      <td>12.8</td>\n",
              "      <td>7</td>\n",
              "    </tr>\n",
              "    <tr>\n",
              "      <th>4897</th>\n",
              "      <td>6.0</td>\n",
              "      <td>0.21</td>\n",
              "      <td>0.38</td>\n",
              "      <td>0.8</td>\n",
              "      <td>0.020</td>\n",
              "      <td>22.0</td>\n",
              "      <td>98.0</td>\n",
              "      <td>0.98941</td>\n",
              "      <td>3.26</td>\n",
              "      <td>0.32</td>\n",
              "      <td>11.8</td>\n",
              "      <td>6</td>\n",
              "    </tr>\n",
              "  </tbody>\n",
              "</table>\n",
              "<p>4898 rows × 12 columns</p>\n",
              "</div>\n",
              "      <button class=\"colab-df-convert\" onclick=\"convertToInteractive('df-61e2bb3a-3d19-4014-88bb-f2488dd07fbe')\"\n",
              "              title=\"Convert this dataframe to an interactive table.\"\n",
              "              style=\"display:none;\">\n",
              "        \n",
              "  <svg xmlns=\"http://www.w3.org/2000/svg\" height=\"24px\"viewBox=\"0 0 24 24\"\n",
              "       width=\"24px\">\n",
              "    <path d=\"M0 0h24v24H0V0z\" fill=\"none\"/>\n",
              "    <path d=\"M18.56 5.44l.94 2.06.94-2.06 2.06-.94-2.06-.94-.94-2.06-.94 2.06-2.06.94zm-11 1L8.5 8.5l.94-2.06 2.06-.94-2.06-.94L8.5 2.5l-.94 2.06-2.06.94zm10 10l.94 2.06.94-2.06 2.06-.94-2.06-.94-.94-2.06-.94 2.06-2.06.94z\"/><path d=\"M17.41 7.96l-1.37-1.37c-.4-.4-.92-.59-1.43-.59-.52 0-1.04.2-1.43.59L10.3 9.45l-7.72 7.72c-.78.78-.78 2.05 0 2.83L4 21.41c.39.39.9.59 1.41.59.51 0 1.02-.2 1.41-.59l7.78-7.78 2.81-2.81c.8-.78.8-2.07 0-2.86zM5.41 20L4 18.59l7.72-7.72 1.47 1.35L5.41 20z\"/>\n",
              "  </svg>\n",
              "      </button>\n",
              "      \n",
              "  <style>\n",
              "    .colab-df-container {\n",
              "      display:flex;\n",
              "      flex-wrap:wrap;\n",
              "      gap: 12px;\n",
              "    }\n",
              "\n",
              "    .colab-df-convert {\n",
              "      background-color: #E8F0FE;\n",
              "      border: none;\n",
              "      border-radius: 50%;\n",
              "      cursor: pointer;\n",
              "      display: none;\n",
              "      fill: #1967D2;\n",
              "      height: 32px;\n",
              "      padding: 0 0 0 0;\n",
              "      width: 32px;\n",
              "    }\n",
              "\n",
              "    .colab-df-convert:hover {\n",
              "      background-color: #E2EBFA;\n",
              "      box-shadow: 0px 1px 2px rgba(60, 64, 67, 0.3), 0px 1px 3px 1px rgba(60, 64, 67, 0.15);\n",
              "      fill: #174EA6;\n",
              "    }\n",
              "\n",
              "    [theme=dark] .colab-df-convert {\n",
              "      background-color: #3B4455;\n",
              "      fill: #D2E3FC;\n",
              "    }\n",
              "\n",
              "    [theme=dark] .colab-df-convert:hover {\n",
              "      background-color: #434B5C;\n",
              "      box-shadow: 0px 1px 3px 1px rgba(0, 0, 0, 0.15);\n",
              "      filter: drop-shadow(0px 1px 2px rgba(0, 0, 0, 0.3));\n",
              "      fill: #FFFFFF;\n",
              "    }\n",
              "  </style>\n",
              "\n",
              "      <script>\n",
              "        const buttonEl =\n",
              "          document.querySelector('#df-61e2bb3a-3d19-4014-88bb-f2488dd07fbe button.colab-df-convert');\n",
              "        buttonEl.style.display =\n",
              "          google.colab.kernel.accessAllowed ? 'block' : 'none';\n",
              "\n",
              "        async function convertToInteractive(key) {\n",
              "          const element = document.querySelector('#df-61e2bb3a-3d19-4014-88bb-f2488dd07fbe');\n",
              "          const dataTable =\n",
              "            await google.colab.kernel.invokeFunction('convertToInteractive',\n",
              "                                                     [key], {});\n",
              "          if (!dataTable) return;\n",
              "\n",
              "          const docLinkHtml = 'Like what you see? Visit the ' +\n",
              "            '<a target=\"_blank\" href=https://colab.research.google.com/notebooks/data_table.ipynb>data table notebook</a>'\n",
              "            + ' to learn more about interactive tables.';\n",
              "          element.innerHTML = '';\n",
              "          dataTable['output_type'] = 'display_data';\n",
              "          await google.colab.output.renderOutput(dataTable, element);\n",
              "          const docLink = document.createElement('div');\n",
              "          docLink.innerHTML = docLinkHtml;\n",
              "          element.appendChild(docLink);\n",
              "        }\n",
              "      </script>\n",
              "    </div>\n",
              "  </div>\n",
              "  "
            ]
          },
          "metadata": {},
          "execution_count": 3
        }
      ],
      "source": [
        "# List columns\n",
        "import pandas as pd\n",
        "df_wine = pd.read_csv(\"http://archive.ics.uci.edu/ml/machine-learning-databases/wine-quality/winequality-white.csv\", delimiter=\";\")\n",
        "df_wine"
      ]
    },
    {
      "cell_type": "markdown",
      "id": "d77ab8e5",
      "metadata": {
        "id": "d77ab8e5"
      },
      "source": [
        "Available columns: \n",
        "- volatile acidity :   Volatile acidity is the gaseous acids present in wine.\n",
        "- fixed acidity :   Primary fixed acids found in wine are tartaric, succinic, citric, and malic\n",
        "- residual sugar :   Amount of sugar left after fermentation.\n",
        "- citric acid :    It is weak organic acid, found in citrus fruits naturally.\n",
        "- chlorides :   Amount of salt present in wine.\n",
        "- free sulfur dioxide :   So2 is used for prevention of wine by oxidation and microbial spoilage.\n",
        "- total sulfur dioxide \n",
        "- pH :   In wine pH is used for checking acidity\n",
        "- density \n",
        "- sulphates :    Added sulfites preserve freshness and protect wine from oxidation, and bacteria.\n",
        "- alcohol :   Percent of alcohol present in wine.\n",
        "\n"
      ]
    },
    {
      "cell_type": "markdown",
      "id": "15fa24c0",
      "metadata": {
        "id": "15fa24c0"
      },
      "source": [
        "### Read the wine quality dataset "
      ]
    },
    {
      "cell_type": "code",
      "execution_count": 4,
      "id": "51b051c9",
      "metadata": {
        "id": "51b051c9"
      },
      "outputs": [],
      "source": [
        "@component(\n",
        "    packages_to_install=[\"pandas\", \"pyarrow\", \"scikit-learn==1.0.0\"],\n",
        "    base_image=\"python:3.9\",\n",
        "    output_component_file=\"get_wine_data.yaml\"\n",
        ")\n",
        "\n",
        "def get_wine_data(\n",
        "    url: str,\n",
        "    dataset_train: Output[Dataset],\n",
        "    dataset_test: Output[Dataset]\n",
        "):\n",
        "    import pandas as pd\n",
        "    import numpy as np\n",
        "    from sklearn.model_selection import train_test_split as tts\n",
        "    \n",
        "    df_wine = pd.read_csv(url, delimiter=\";\")\n",
        "    df_wine['best_quality'] = [ 1 if x>=7 else 0 for x in df_wine.quality] \n",
        "    df_wine['target'] = df_wine.best_quality\n",
        "    df_wine = df_wine.drop(['quality', 'total sulfur dioxide', 'best_quality'], axis=1)\n",
        "   \n",
        "   \n",
        "    train, test = tts(df_wine, test_size=0.3)\n",
        "    train.to_csv(dataset_train.path + \".csv\" , index=False, encoding='utf-8-sig')\n",
        "    test.to_csv(dataset_test.path + \".csv\" , index=False, encoding='utf-8-sig')\n",
        "    \n"
      ]
    },
    {
      "cell_type": "markdown",
      "id": "de33e87f",
      "metadata": {
        "id": "de33e87f"
      },
      "source": [
        "#### Train the wine quality model\n"
      ]
    },
    {
      "cell_type": "code",
      "execution_count": 5,
      "id": "9a50fc15",
      "metadata": {
        "id": "9a50fc15"
      },
      "outputs": [],
      "source": [
        "@component(\n",
        "    packages_to_install = [\n",
        "        \"pandas\",\n",
        "        \"sklearn\"\n",
        "    ], base_image=\"python:3.9\",\n",
        ")\n",
        "def train_winequality(\n",
        "    dataset:  Input[Dataset],\n",
        "    model: Output[Model], \n",
        "):\n",
        "    \n",
        "    from sklearn.ensemble import RandomForestClassifier\n",
        "    import pandas as pd\n",
        "    import pickle\n",
        "\n",
        "    data = pd.read_csv(dataset.path+\".csv\")\n",
        "    model_rf = RandomForestClassifier(n_estimators=10)\n",
        "    model_rf.fit(\n",
        "        data.drop(columns=[\"target\"]),\n",
        "        data.target,\n",
        "    )\n",
        "    model.metadata[\"framework\"] = \"RF\"\n",
        "    file_name = model.path + f\".pkl\"\n",
        "    with open(file_name, 'wb') as file:  \n",
        "        pickle.dump(model_rf, file)\n",
        "        "
      ]
    },
    {
      "cell_type": "markdown",
      "id": "fdec3aea",
      "metadata": {
        "id": "fdec3aea"
      },
      "source": [
        "#### Evaluate the model "
      ]
    },
    {
      "cell_type": "code",
      "execution_count": 6,
      "id": "c1b304bb",
      "metadata": {
        "id": "c1b304bb"
      },
      "outputs": [],
      "source": [
        "@component(\n",
        "    packages_to_install = [\n",
        "        \"pandas\",\n",
        "        \"sklearn\"\n",
        "    ], base_image=\"python:3.9\",\n",
        ")\n",
        "def winequality_evaluation(\n",
        "    test_set:  Input[Dataset],\n",
        "    rf_winequality_model: Input[Model],\n",
        "    thresholds_dict_str: str,\n",
        "    metrics: Output[ClassificationMetrics],\n",
        "    kpi: Output[Metrics]\n",
        ") -> NamedTuple(\"output\", [(\"deploy\", str)]):\n",
        "\n",
        "    from sklearn.ensemble import RandomForestClassifier\n",
        "    import pandas as pd\n",
        "    import logging \n",
        "    import pickle\n",
        "    from sklearn.metrics import roc_curve, confusion_matrix, accuracy_score\n",
        "    import json\n",
        "    import typing\n",
        "\n",
        "    \n",
        "    def threshold_check(val1, val2):\n",
        "        cond = \"false\"\n",
        "        if val1 >= val2 :\n",
        "            cond = \"true\"\n",
        "        return cond\n",
        "\n",
        "    data = pd.read_csv(test_set.path+\".csv\")\n",
        "    model = RandomForestClassifier()\n",
        "    file_name = rf_winequality_model.path + \".pkl\"\n",
        "    with open(file_name, 'rb') as file:  \n",
        "        model = pickle.load(file)\n",
        "    \n",
        "    y_test = data.drop(columns=[\"target\"])\n",
        "    y_target=data.target\n",
        "    y_pred = model.predict(y_test)\n",
        "    \n",
        "\n",
        "    y_scores =  model.predict_proba(data.drop(columns=[\"target\"]))[:, 1]\n",
        "    fpr, tpr, thresholds = roc_curve(\n",
        "         y_true=data.target.to_numpy(), y_score=y_scores, pos_label=True\n",
        "    )\n",
        "    metrics.log_roc_curve(fpr.tolist(), tpr.tolist(), thresholds.tolist())  \n",
        "    \n",
        "    metrics.log_confusion_matrix(\n",
        "       [\"False\", \"True\"],\n",
        "       confusion_matrix(\n",
        "           data.target, y_pred\n",
        "       ).tolist(), \n",
        "    )\n",
        "    \n",
        "    accuracy = accuracy_score(data.target, y_pred.round())\n",
        "    thresholds_dict = json.loads(thresholds_dict_str)\n",
        "    rf_winequality_model.metadata[\"accuracy\"] = float(accuracy)\n",
        "    kpi.log_metric(\"accuracy\", float(accuracy))\n",
        "    deploy = threshold_check(float(accuracy), int(thresholds_dict['roc']))\n",
        "    return (deploy,)\n",
        "    \n",
        "\n",
        "    "
      ]
    },
    {
      "cell_type": "markdown",
      "id": "139b5ad2",
      "metadata": {
        "id": "139b5ad2"
      },
      "source": [
        "### Deploy model "
      ]
    },
    {
      "cell_type": "code",
      "execution_count": 7,
      "id": "0ae07652",
      "metadata": {
        "id": "0ae07652"
      },
      "outputs": [],
      "source": [
        "@component(\n",
        "    packages_to_install=[\"google-cloud-aiplatform\", \"sklearn\",  \"kfp\"],\n",
        "    #base_image=\"europe-west1-docker.pkg.dev/PROJECT_ID/wine-train/scikit-learn-winequality:latest\",\n",
        "    base_image=\"python:3.9\",\n",
        "    output_component_file=\"model_winequality_coponent.yml\"\n",
        ")\n",
        "def deploy_winequality(\n",
        "    model: Input[Model],\n",
        "    project: str,\n",
        "    region: str,\n",
        "    serving_container_image_uri : str, \n",
        "    vertex_endpoint: Output[Artifact],\n",
        "    vertex_model: Output[Model]\n",
        "):\n",
        "    from google.cloud import aiplatform\n",
        "    aiplatform.init(project=project, location=region)\n",
        "\n",
        "    DISPLAY_NAME  = \"winequality\"\n",
        "    MODEL_NAME = \"winequality-rf\"\n",
        "    ENDPOINT_NAME = \"winequality_endpoint\"\n",
        "    \n",
        "    def create_endpoint():\n",
        "        endpoints = aiplatform.Endpoint.list(\n",
        "        filter='display_name=\"{}\"'.format(ENDPOINT_NAME),\n",
        "        order_by='create_time desc',\n",
        "        project=project, \n",
        "        location=region,\n",
        "        )\n",
        "        if len(endpoints) > 0:\n",
        "            endpoint = endpoints[0]  # most recently created\n",
        "        else:\n",
        "            endpoint = aiplatform.Endpoint.create(\n",
        "            display_name=ENDPOINT_NAME, project=project, location=region\n",
        "        )\n",
        "    endpoint = create_endpoint()   \n",
        "    \n",
        "    \n",
        "    #Import a model programmatically\n",
        "    model_upload = aiplatform.Model.upload(\n",
        "        display_name = DISPLAY_NAME, \n",
        "        artifact_uri = model.uri.replace(\"model\", \"\"),\n",
        "        serving_container_image_uri =  serving_container_image_uri,\n",
        "        serving_container_health_route=f\"/v1/models/{MODEL_NAME}\",\n",
        "        serving_container_predict_route=f\"/v1/models/{MODEL_NAME}:predict\",\n",
        "        serving_container_environment_variables={\n",
        "        \"MODEL_NAME\": MODEL_NAME,\n",
        "    },       \n",
        "    )\n",
        "    model_deploy = model_upload.deploy(\n",
        "        machine_type=\"n1-standard-4\", \n",
        "        endpoint=endpoint,\n",
        "        traffic_split={\"0\": 100},\n",
        "        deployed_model_display_name=DISPLAY_NAME,\n",
        "    )\n",
        "\n",
        "    # Save data to the output params\n",
        "    vertex_model.uri = model_deploy.resource_name"
      ]
    },
    {
      "cell_type": "code",
      "execution_count": 8,
      "id": "7902a0f7",
      "metadata": {
        "id": "7902a0f7"
      },
      "outputs": [],
      "source": [
        "from datetime import datetime\n",
        "\n",
        "TIMESTAMP =datetime.now().strftime(\"%Y%m%d%H%M%S\")\n",
        "DISPLAY_NAME = 'pipeline-winequality-job{}'.format(TIMESTAMP)"
      ]
    },
    {
      "cell_type": "markdown",
      "id": "f98bd8c3",
      "metadata": {
        "id": "f98bd8c3"
      },
      "source": [
        "#### Create the Pipeline\n",
        "\n",
        "Once you have created all the needed components define the pipeline and then compile it into a `.json` file."
      ]
    },
    {
      "cell_type": "code",
      "source": [
        "PIPELINE_ROOT"
      ],
      "metadata": {
        "colab": {
          "base_uri": "https://localhost:8080/",
          "height": 35
        },
        "id": "FJsGtfhtcqgs",
        "outputId": "104f56e5-9398-4c04-c2bf-068cc1ef60d5"
      },
      "id": "FJsGtfhtcqgs",
      "execution_count": 9,
      "outputs": [
        {
          "output_type": "execute_result",
          "data": {
            "text/plain": [
              "'gs://platinum-avenue-272410-bucket-winequality/pipeline_root_wine/'"
            ],
            "application/vnd.google.colaboratory.intrinsic+json": {
              "type": "string"
            }
          },
          "metadata": {},
          "execution_count": 9
        }
      ]
    },
    {
      "cell_type": "code",
      "execution_count": 10,
      "id": "d3d5f227",
      "metadata": {
        "id": "d3d5f227"
      },
      "outputs": [],
      "source": [
        "@dsl.pipeline(\n",
        "    # Default pipeline root. You can override it when submitting the pipeline.\n",
        "    pipeline_root=PIPELINE_ROOT,\n",
        "    # A name for the pipeline. Use to determine the pipeline Context.\n",
        "    name=\"pipeline-winequality\",\n",
        "    \n",
        ")\n",
        "def pipeline(\n",
        "    url: str = \"http://archive.ics.uci.edu/ml/machine-learning-databases/wine-quality/winequality-white.csv\",\n",
        "    project: str = PROJECT_ID,\n",
        "    region: str = REGION, \n",
        "    display_name: str = DISPLAY_NAME,\n",
        "    api_endpoint: str = REGION+\"-aiplatform.googleapis.com\",\n",
        "    thresholds_dict_str: str = '{\"roc\":0.8}',\n",
        "    serving_container_image_uri: str = \"europe-docker.pkg.dev/vertex-ai/prediction/sklearn-cpu.0-24:latest\"\n",
        "    ):\n",
        "    \n",
        "    data_op = get_wine_data(url)\n",
        "    train_model_op = train_winequality(data_op.outputs[\"dataset_train\"])\n",
        "    model_evaluation_op = winequality_evaluation(\n",
        "        test_set=data_op.outputs[\"dataset_test\"],\n",
        "        rf_winequality_model=train_model_op.outputs[\"model\"],\n",
        "        thresholds_dict_str = thresholds_dict_str, # I deploy the model anly if the model performance is above the threshold\n",
        "    )\n",
        "    \n",
        "    with dsl.Condition(\n",
        "        model_evaluation_op.outputs[\"deploy\"]==\"true\",\n",
        "        name=\"deploy-winequality\",\n",
        "    ):\n",
        "           \n",
        "        deploy_model_op = deploy_winequality(\n",
        "        model=train_model_op.outputs['model'],\n",
        "        project=project,\n",
        "        region=region, \n",
        "        serving_container_image_uri = serving_container_image_uri,\n",
        "        )\n",
        "    "
      ]
    },
    {
      "cell_type": "markdown",
      "id": "6ba00f47",
      "metadata": {
        "id": "6ba00f47"
      },
      "source": [
        "### Compile and run the pipeline"
      ]
    },
    {
      "cell_type": "code",
      "execution_count": 12,
      "id": "d68ec6e4",
      "metadata": {
        "colab": {
          "base_uri": "https://localhost:8080/"
        },
        "id": "d68ec6e4",
        "outputId": "e7029173-3625-49e8-a3fa-fa3c45f50ff2"
      },
      "outputs": [
        {
          "output_type": "stream",
          "name": "stderr",
          "text": [
            "/usr/local/lib/python3.8/dist-packages/kfp/v2/compiler/compiler.py:1290: FutureWarning: APIs imported from the v1 namespace (e.g. kfp.dsl, kfp.components, etc) will not be supported by the v2 compiler since v2.0.0\n",
            "  warnings.warn(\n"
          ]
        }
      ],
      "source": [
        "compiler.Compiler().compile(pipeline_func=pipeline,\n",
        "        package_path='ml_winequality.json')"
      ]
    },
    {
      "cell_type": "markdown",
      "id": "c68be6e6",
      "metadata": {
        "id": "c68be6e6"
      },
      "source": [
        "The pipeline compilation generates the **ml_winequality.json** job spec file."
      ]
    },
    {
      "cell_type": "code",
      "execution_count": null,
      "id": "f1e47a43",
      "metadata": {
        "id": "f1e47a43"
      },
      "outputs": [],
      "source": [
        "### Create a run "
      ]
    },
    {
      "cell_type": "code",
      "source": [
        "aiplatform.init(project=PROJECT_ID, location=REGION)"
      ],
      "metadata": {
        "id": "N_YjyECUdeDS"
      },
      "id": "N_YjyECUdeDS",
      "execution_count": 16,
      "outputs": []
    },
    {
      "cell_type": "code",
      "execution_count": 17,
      "id": "b24bac81",
      "metadata": {
        "id": "b24bac81"
      },
      "outputs": [],
      "source": [
        "start_pipeline = pipeline_jobs.PipelineJob(\n",
        "    display_name=\"winequality-pipeline\",\n",
        "    template_path=\"ml_winequality.json\",\n",
        "    enable_caching=False,\n",
        "    location=REGION,\n",
        ")"
      ]
    },
    {
      "cell_type": "code",
      "execution_count": 18,
      "id": "80f7bd3b",
      "metadata": {
        "colab": {
          "base_uri": "https://localhost:8080/",
          "height": 1000
        },
        "id": "80f7bd3b",
        "outputId": "fce860b7-b061-4dfe-aec3-3d15c3777f7f"
      },
      "outputs": [
        {
          "output_type": "stream",
          "name": "stdout",
          "text": [
            "Error when trying to get or create a GCS bucket for the pipeline output artifacts\n",
            "Traceback (most recent call last):\n",
            "  File \"/usr/local/lib/python3.8/dist-packages/google/auth/compute_engine/credentials.py\", line 111, in refresh\n",
            "    self._retrieve_info(request)\n",
            "  File \"/usr/local/lib/python3.8/dist-packages/google/auth/compute_engine/credentials.py\", line 87, in _retrieve_info\n",
            "    info = _metadata.get_service_account_info(\n",
            "  File \"/usr/local/lib/python3.8/dist-packages/google/auth/compute_engine/_metadata.py\", line 234, in get_service_account_info\n",
            "    return get(request, path, params={\"recursive\": \"true\"})\n",
            "  File \"/usr/local/lib/python3.8/dist-packages/google/auth/compute_engine/_metadata.py\", line 182, in get\n",
            "    raise exceptions.TransportError(\n",
            "google.auth.exceptions.TransportError: (\"Failed to retrieve http://metadata.google.internal/computeMetadata/v1/instance/service-accounts/default/?recursive=true from the Google Compute Engine metadata service. Status: 404 Response:\\nb''\", <google.auth.transport.requests._Response object at 0x7f431c795a90>)\n",
            "\n",
            "The above exception was the direct cause of the following exception:\n",
            "\n",
            "Traceback (most recent call last):\n",
            "  File \"/usr/local/lib/python3.8/dist-packages/google/cloud/aiplatform/pipeline_jobs.py\", line 398, in submit\n",
            "    gcs_utils.create_gcs_bucket_for_pipeline_artifacts_if_it_does_not_exist(\n",
            "  File \"/usr/local/lib/python3.8/dist-packages/google/cloud/aiplatform/utils/gcs_utils.py\", line 236, in create_gcs_bucket_for_pipeline_artifacts_if_it_does_not_exist\n",
            "    if not pipelines_bucket.exists():\n",
            "  File \"/usr/local/lib/python3.8/dist-packages/google/cloud/storage/bucket.py\", line 900, in exists\n",
            "    client._get_resource(\n",
            "  File \"/usr/local/lib/python3.8/dist-packages/google/cloud/storage/client.py\", line 372, in _get_resource\n",
            "    return self._connection.api_request(\n",
            "  File \"/usr/local/lib/python3.8/dist-packages/google/cloud/storage/_http.py\", line 72, in api_request\n",
            "    return call()\n",
            "  File \"/usr/local/lib/python3.8/dist-packages/google/api_core/retry.py\", line 349, in retry_wrapped_func\n",
            "    return retry_target(\n",
            "  File \"/usr/local/lib/python3.8/dist-packages/google/api_core/retry.py\", line 191, in retry_target\n",
            "    return target()\n",
            "  File \"/usr/local/lib/python3.8/dist-packages/google/cloud/_http/__init__.py\", line 482, in api_request\n",
            "    response = self._make_request(\n",
            "  File \"/usr/local/lib/python3.8/dist-packages/google/cloud/_http/__init__.py\", line 341, in _make_request\n",
            "    return self._do_request(\n",
            "  File \"/usr/local/lib/python3.8/dist-packages/google/cloud/_http/__init__.py\", line 379, in _do_request\n",
            "    return self.http.request(\n",
            "  File \"/usr/local/lib/python3.8/dist-packages/google/auth/transport/requests.py\", line 545, in request\n",
            "    self.credentials.before_request(auth_request, method, url, request_headers)\n",
            "  File \"/usr/local/lib/python3.8/dist-packages/google/auth/credentials.py\", line 135, in before_request\n",
            "    self.refresh(request)\n",
            "  File \"/usr/local/lib/python3.8/dist-packages/google/auth/compute_engine/credentials.py\", line 117, in refresh\n",
            "    six.raise_from(new_exc, caught_exc)\n",
            "  File \"<string>\", line 3, in raise_from\n",
            "google.auth.exceptions.RefreshError: (\"Failed to retrieve http://metadata.google.internal/computeMetadata/v1/instance/service-accounts/default/?recursive=true from the Google Compute Engine metadata service. Status: 404 Response:\\nb''\", <google.auth.transport.requests._Response object at 0x7f431c795a90>)\n"
          ]
        },
        {
          "output_type": "stream",
          "name": "stderr",
          "text": [
            "ERROR:google.cloud.aiplatform.pipeline_jobs:Error when trying to get or create a GCS bucket for the pipeline output artifacts\n",
            "Traceback (most recent call last):\n",
            "  File \"/usr/local/lib/python3.8/dist-packages/google/auth/compute_engine/credentials.py\", line 111, in refresh\n",
            "    self._retrieve_info(request)\n",
            "  File \"/usr/local/lib/python3.8/dist-packages/google/auth/compute_engine/credentials.py\", line 87, in _retrieve_info\n",
            "    info = _metadata.get_service_account_info(\n",
            "  File \"/usr/local/lib/python3.8/dist-packages/google/auth/compute_engine/_metadata.py\", line 234, in get_service_account_info\n",
            "    return get(request, path, params={\"recursive\": \"true\"})\n",
            "  File \"/usr/local/lib/python3.8/dist-packages/google/auth/compute_engine/_metadata.py\", line 182, in get\n",
            "    raise exceptions.TransportError(\n",
            "google.auth.exceptions.TransportError: (\"Failed to retrieve http://metadata.google.internal/computeMetadata/v1/instance/service-accounts/default/?recursive=true from the Google Compute Engine metadata service. Status: 404 Response:\\nb''\", <google.auth.transport.requests._Response object at 0x7f431c795a90>)\n",
            "\n",
            "The above exception was the direct cause of the following exception:\n",
            "\n",
            "Traceback (most recent call last):\n",
            "  File \"/usr/local/lib/python3.8/dist-packages/google/cloud/aiplatform/pipeline_jobs.py\", line 398, in submit\n",
            "    gcs_utils.create_gcs_bucket_for_pipeline_artifacts_if_it_does_not_exist(\n",
            "  File \"/usr/local/lib/python3.8/dist-packages/google/cloud/aiplatform/utils/gcs_utils.py\", line 236, in create_gcs_bucket_for_pipeline_artifacts_if_it_does_not_exist\n",
            "    if not pipelines_bucket.exists():\n",
            "  File \"/usr/local/lib/python3.8/dist-packages/google/cloud/storage/bucket.py\", line 900, in exists\n",
            "    client._get_resource(\n",
            "  File \"/usr/local/lib/python3.8/dist-packages/google/cloud/storage/client.py\", line 372, in _get_resource\n",
            "    return self._connection.api_request(\n",
            "  File \"/usr/local/lib/python3.8/dist-packages/google/cloud/storage/_http.py\", line 72, in api_request\n",
            "    return call()\n",
            "  File \"/usr/local/lib/python3.8/dist-packages/google/api_core/retry.py\", line 349, in retry_wrapped_func\n",
            "    return retry_target(\n",
            "  File \"/usr/local/lib/python3.8/dist-packages/google/api_core/retry.py\", line 191, in retry_target\n",
            "    return target()\n",
            "  File \"/usr/local/lib/python3.8/dist-packages/google/cloud/_http/__init__.py\", line 482, in api_request\n",
            "    response = self._make_request(\n",
            "  File \"/usr/local/lib/python3.8/dist-packages/google/cloud/_http/__init__.py\", line 341, in _make_request\n",
            "    return self._do_request(\n",
            "  File \"/usr/local/lib/python3.8/dist-packages/google/cloud/_http/__init__.py\", line 379, in _do_request\n",
            "    return self.http.request(\n",
            "  File \"/usr/local/lib/python3.8/dist-packages/google/auth/transport/requests.py\", line 545, in request\n",
            "    self.credentials.before_request(auth_request, method, url, request_headers)\n",
            "  File \"/usr/local/lib/python3.8/dist-packages/google/auth/credentials.py\", line 135, in before_request\n",
            "    self.refresh(request)\n",
            "  File \"/usr/local/lib/python3.8/dist-packages/google/auth/compute_engine/credentials.py\", line 117, in refresh\n",
            "    six.raise_from(new_exc, caught_exc)\n",
            "  File \"<string>\", line 3, in raise_from\n",
            "google.auth.exceptions.RefreshError: (\"Failed to retrieve http://metadata.google.internal/computeMetadata/v1/instance/service-accounts/default/?recursive=true from the Google Compute Engine metadata service. Status: 404 Response:\\nb''\", <google.auth.transport.requests._Response object at 0x7f431c795a90>)\n"
          ]
        },
        {
          "output_type": "stream",
          "name": "stdout",
          "text": [
            "Creating PipelineJob\n"
          ]
        },
        {
          "output_type": "stream",
          "name": "stderr",
          "text": [
            "INFO:google.cloud.aiplatform.pipeline_jobs:Creating PipelineJob\n",
            "ERROR:grpc._plugin_wrapping:AuthMetadataPluginCallback \"<google.auth.transport.grpc.AuthMetadataPlugin object at 0x7f431c72cf70>\" raised exception!\n",
            "Traceback (most recent call last):\n",
            "  File \"/usr/local/lib/python3.8/dist-packages/google/auth/compute_engine/credentials.py\", line 111, in refresh\n",
            "    self._retrieve_info(request)\n",
            "  File \"/usr/local/lib/python3.8/dist-packages/google/auth/compute_engine/credentials.py\", line 87, in _retrieve_info\n",
            "    info = _metadata.get_service_account_info(\n",
            "  File \"/usr/local/lib/python3.8/dist-packages/google/auth/compute_engine/_metadata.py\", line 234, in get_service_account_info\n",
            "    return get(request, path, params={\"recursive\": \"true\"})\n",
            "  File \"/usr/local/lib/python3.8/dist-packages/google/auth/compute_engine/_metadata.py\", line 182, in get\n",
            "    raise exceptions.TransportError(\n",
            "google.auth.exceptions.TransportError: (\"Failed to retrieve http://metadata.google.internal/computeMetadata/v1/instance/service-accounts/default/?recursive=true from the Google Compute Engine metadata service. Status: 404 Response:\\nb''\", <google.auth.transport.requests._Response object at 0x7f431c6005e0>)\n",
            "\n",
            "The above exception was the direct cause of the following exception:\n",
            "\n",
            "Traceback (most recent call last):\n",
            "  File \"/usr/local/lib/python3.8/dist-packages/grpc/_plugin_wrapping.py\", line 95, in __call__\n",
            "    self._metadata_plugin(\n",
            "  File \"/usr/local/lib/python3.8/dist-packages/google/auth/transport/grpc.py\", line 101, in __call__\n",
            "    callback(self._get_authorization_headers(context), None)\n",
            "  File \"/usr/local/lib/python3.8/dist-packages/google/auth/transport/grpc.py\", line 87, in _get_authorization_headers\n",
            "    self._credentials.before_request(\n",
            "  File \"/usr/local/lib/python3.8/dist-packages/google/auth/credentials.py\", line 135, in before_request\n",
            "    self.refresh(request)\n",
            "  File \"/usr/local/lib/python3.8/dist-packages/google/auth/compute_engine/credentials.py\", line 117, in refresh\n",
            "    six.raise_from(new_exc, caught_exc)\n",
            "  File \"<string>\", line 3, in raise_from\n",
            "google.auth.exceptions.RefreshError: (\"Failed to retrieve http://metadata.google.internal/computeMetadata/v1/instance/service-accounts/default/?recursive=true from the Google Compute Engine metadata service. Status: 404 Response:\\nb''\", <google.auth.transport.requests._Response object at 0x7f431c6005e0>)\n"
          ]
        },
        {
          "output_type": "error",
          "ename": "ServiceUnavailable",
          "evalue": "ignored",
          "traceback": [
            "\u001b[0;31m---------------------------------------------------------------------------\u001b[0m",
            "\u001b[0;31m_InactiveRpcError\u001b[0m                         Traceback (most recent call last)",
            "\u001b[0;32m/usr/local/lib/python3.8/dist-packages/google/api_core/grpc_helpers.py\u001b[0m in \u001b[0;36merror_remapped_callable\u001b[0;34m(*args, **kwargs)\u001b[0m\n\u001b[1;32m     71\u001b[0m         \u001b[0;32mtry\u001b[0m\u001b[0;34m:\u001b[0m\u001b[0;34m\u001b[0m\u001b[0;34m\u001b[0m\u001b[0m\n\u001b[0;32m---> 72\u001b[0;31m             \u001b[0;32mreturn\u001b[0m \u001b[0mcallable_\u001b[0m\u001b[0;34m(\u001b[0m\u001b[0;34m*\u001b[0m\u001b[0margs\u001b[0m\u001b[0;34m,\u001b[0m \u001b[0;34m**\u001b[0m\u001b[0mkwargs\u001b[0m\u001b[0;34m)\u001b[0m\u001b[0;34m\u001b[0m\u001b[0;34m\u001b[0m\u001b[0m\n\u001b[0m\u001b[1;32m     73\u001b[0m         \u001b[0;32mexcept\u001b[0m \u001b[0mgrpc\u001b[0m\u001b[0;34m.\u001b[0m\u001b[0mRpcError\u001b[0m \u001b[0;32mas\u001b[0m \u001b[0mexc\u001b[0m\u001b[0;34m:\u001b[0m\u001b[0;34m\u001b[0m\u001b[0;34m\u001b[0m\u001b[0m\n",
            "\u001b[0;32m/usr/local/lib/python3.8/dist-packages/grpc/_channel.py\u001b[0m in \u001b[0;36m__call__\u001b[0;34m(self, request, timeout, metadata, credentials, wait_for_ready, compression)\u001b[0m\n\u001b[1;32m    945\u001b[0m                                       wait_for_ready, compression)\n\u001b[0;32m--> 946\u001b[0;31m         \u001b[0;32mreturn\u001b[0m \u001b[0m_end_unary_response_blocking\u001b[0m\u001b[0;34m(\u001b[0m\u001b[0mstate\u001b[0m\u001b[0;34m,\u001b[0m \u001b[0mcall\u001b[0m\u001b[0;34m,\u001b[0m \u001b[0;32mFalse\u001b[0m\u001b[0;34m,\u001b[0m \u001b[0;32mNone\u001b[0m\u001b[0;34m)\u001b[0m\u001b[0;34m\u001b[0m\u001b[0;34m\u001b[0m\u001b[0m\n\u001b[0m\u001b[1;32m    947\u001b[0m \u001b[0;34m\u001b[0m\u001b[0m\n",
            "\u001b[0;32m/usr/local/lib/python3.8/dist-packages/grpc/_channel.py\u001b[0m in \u001b[0;36m_end_unary_response_blocking\u001b[0;34m(state, call, with_call, deadline)\u001b[0m\n\u001b[1;32m    848\u001b[0m     \u001b[0;32melse\u001b[0m\u001b[0;34m:\u001b[0m\u001b[0;34m\u001b[0m\u001b[0;34m\u001b[0m\u001b[0m\n\u001b[0;32m--> 849\u001b[0;31m         \u001b[0;32mraise\u001b[0m \u001b[0m_InactiveRpcError\u001b[0m\u001b[0;34m(\u001b[0m\u001b[0mstate\u001b[0m\u001b[0;34m)\u001b[0m\u001b[0;34m\u001b[0m\u001b[0;34m\u001b[0m\u001b[0m\n\u001b[0m\u001b[1;32m    850\u001b[0m \u001b[0;34m\u001b[0m\u001b[0m\n",
            "\u001b[0;31m_InactiveRpcError\u001b[0m: <_InactiveRpcError of RPC that terminated with:\n\tstatus = StatusCode.UNAVAILABLE\n\tdetails = \"Getting metadata from plugin failed with error: (\"Failed to retrieve http://metadata.google.internal/computeMetadata/v1/instance/service-accounts/default/?recursive=true from the Google Compute Engine metadata service. Status: 404 Response:\\nb''\", <google.auth.transport.requests._Response object at 0x7f431c6005e0>)\"\n\tdebug_error_string = \"UNKNOWN:Error received from peer europe-west1-aiplatform.googleapis.com:443 {grpc_message:\"Getting metadata from plugin failed with error: (\\\"Failed to retrieve http://metadata.google.internal/computeMetadata/v1/instance/service-accounts/default/?recursive=true from the Google Compute Engine metadata service. Status: 404 Response:\\\\nb\\'\\'\\\", <google.auth.transport.requests._Response object at 0x7f431c6005e0>)\", grpc_status:14, created_time:\"2023-02-21T10:13:14.115129404+00:00\"}\"\n>",
            "\nThe above exception was the direct cause of the following exception:\n",
            "\u001b[0;31mServiceUnavailable\u001b[0m                        Traceback (most recent call last)",
            "\u001b[0;32m<ipython-input-18-007db5f7e872>\u001b[0m in \u001b[0;36m<module>\u001b[0;34m\u001b[0m\n\u001b[0;32m----> 1\u001b[0;31m \u001b[0mstart_pipeline\u001b[0m\u001b[0;34m.\u001b[0m\u001b[0mrun\u001b[0m\u001b[0;34m(\u001b[0m\u001b[0;34m)\u001b[0m\u001b[0;34m\u001b[0m\u001b[0;34m\u001b[0m\u001b[0m\n\u001b[0m",
            "\u001b[0;32m/usr/local/lib/python3.8/dist-packages/google/cloud/aiplatform/pipeline_jobs.py\u001b[0m in \u001b[0;36mrun\u001b[0;34m(self, service_account, network, sync, create_request_timeout)\u001b[0m\n\u001b[1;32m    312\u001b[0m         \u001b[0mnetwork\u001b[0m \u001b[0;34m=\u001b[0m \u001b[0mnetwork\u001b[0m \u001b[0;32mor\u001b[0m \u001b[0minitializer\u001b[0m\u001b[0;34m.\u001b[0m\u001b[0mglobal_config\u001b[0m\u001b[0;34m.\u001b[0m\u001b[0mnetwork\u001b[0m\u001b[0;34m\u001b[0m\u001b[0;34m\u001b[0m\u001b[0m\n\u001b[1;32m    313\u001b[0m \u001b[0;34m\u001b[0m\u001b[0m\n\u001b[0;32m--> 314\u001b[0;31m         self._run(\n\u001b[0m\u001b[1;32m    315\u001b[0m             \u001b[0mservice_account\u001b[0m\u001b[0;34m=\u001b[0m\u001b[0mservice_account\u001b[0m\u001b[0;34m,\u001b[0m\u001b[0;34m\u001b[0m\u001b[0;34m\u001b[0m\u001b[0m\n\u001b[1;32m    316\u001b[0m             \u001b[0mnetwork\u001b[0m\u001b[0;34m=\u001b[0m\u001b[0mnetwork\u001b[0m\u001b[0;34m,\u001b[0m\u001b[0;34m\u001b[0m\u001b[0;34m\u001b[0m\u001b[0m\n",
            "\u001b[0;32m/usr/local/lib/python3.8/dist-packages/google/cloud/aiplatform/base.py\u001b[0m in \u001b[0;36mwrapper\u001b[0;34m(*args, **kwargs)\u001b[0m\n\u001b[1;32m    808\u001b[0m                 \u001b[0;32mif\u001b[0m \u001b[0mself\u001b[0m\u001b[0;34m:\u001b[0m\u001b[0;34m\u001b[0m\u001b[0;34m\u001b[0m\u001b[0m\n\u001b[1;32m    809\u001b[0m                     \u001b[0mVertexAiResourceNounWithFutureManager\u001b[0m\u001b[0;34m.\u001b[0m\u001b[0mwait\u001b[0m\u001b[0;34m(\u001b[0m\u001b[0mself\u001b[0m\u001b[0;34m)\u001b[0m\u001b[0;34m\u001b[0m\u001b[0;34m\u001b[0m\u001b[0m\n\u001b[0;32m--> 810\u001b[0;31m                 \u001b[0;32mreturn\u001b[0m \u001b[0mmethod\u001b[0m\u001b[0;34m(\u001b[0m\u001b[0;34m*\u001b[0m\u001b[0margs\u001b[0m\u001b[0;34m,\u001b[0m \u001b[0;34m**\u001b[0m\u001b[0mkwargs\u001b[0m\u001b[0;34m)\u001b[0m\u001b[0;34m\u001b[0m\u001b[0;34m\u001b[0m\u001b[0m\n\u001b[0m\u001b[1;32m    811\u001b[0m \u001b[0;34m\u001b[0m\u001b[0m\n\u001b[1;32m    812\u001b[0m             \u001b[0;31m# callbacks to call within the Future (in same Thread)\u001b[0m\u001b[0;34m\u001b[0m\u001b[0;34m\u001b[0m\u001b[0;34m\u001b[0m\u001b[0m\n",
            "\u001b[0;32m/usr/local/lib/python3.8/dist-packages/google/cloud/aiplatform/pipeline_jobs.py\u001b[0m in \u001b[0;36m_run\u001b[0;34m(self, service_account, network, sync, create_request_timeout)\u001b[0m\n\u001b[1;32m    343\u001b[0m                 \u001b[0mOptional\u001b[0m\u001b[0;34m.\u001b[0m \u001b[0mThe\u001b[0m \u001b[0mtimeout\u001b[0m \u001b[0;32mfor\u001b[0m \u001b[0mthe\u001b[0m \u001b[0mcreate\u001b[0m \u001b[0mrequest\u001b[0m \u001b[0;32min\u001b[0m \u001b[0mseconds\u001b[0m\u001b[0;34m.\u001b[0m\u001b[0;34m\u001b[0m\u001b[0;34m\u001b[0m\u001b[0m\n\u001b[1;32m    344\u001b[0m         \"\"\"\n\u001b[0;32m--> 345\u001b[0;31m         self.submit(\n\u001b[0m\u001b[1;32m    346\u001b[0m             \u001b[0mservice_account\u001b[0m\u001b[0;34m=\u001b[0m\u001b[0mservice_account\u001b[0m\u001b[0;34m,\u001b[0m\u001b[0;34m\u001b[0m\u001b[0;34m\u001b[0m\u001b[0m\n\u001b[1;32m    347\u001b[0m             \u001b[0mnetwork\u001b[0m\u001b[0;34m=\u001b[0m\u001b[0mnetwork\u001b[0m\u001b[0;34m,\u001b[0m\u001b[0;34m\u001b[0m\u001b[0;34m\u001b[0m\u001b[0m\n",
            "\u001b[0;32m/usr/local/lib/python3.8/dist-packages/google/cloud/aiplatform/pipeline_jobs.py\u001b[0m in \u001b[0;36msubmit\u001b[0;34m(self, service_account, network, create_request_timeout, experiment)\u001b[0m\n\u001b[1;32m    417\u001b[0m         \u001b[0m_LOGGER\u001b[0m\u001b[0;34m.\u001b[0m\u001b[0mlog_create_with_lro\u001b[0m\u001b[0;34m(\u001b[0m\u001b[0mself\u001b[0m\u001b[0;34m.\u001b[0m\u001b[0m__class__\u001b[0m\u001b[0;34m)\u001b[0m\u001b[0;34m\u001b[0m\u001b[0;34m\u001b[0m\u001b[0m\n\u001b[1;32m    418\u001b[0m \u001b[0;34m\u001b[0m\u001b[0m\n\u001b[0;32m--> 419\u001b[0;31m         self._gca_resource = self.api_client.create_pipeline_job(\n\u001b[0m\u001b[1;32m    420\u001b[0m             \u001b[0mparent\u001b[0m\u001b[0;34m=\u001b[0m\u001b[0mself\u001b[0m\u001b[0;34m.\u001b[0m\u001b[0m_parent\u001b[0m\u001b[0;34m,\u001b[0m\u001b[0;34m\u001b[0m\u001b[0;34m\u001b[0m\u001b[0m\n\u001b[1;32m    421\u001b[0m             \u001b[0mpipeline_job\u001b[0m\u001b[0;34m=\u001b[0m\u001b[0mself\u001b[0m\u001b[0;34m.\u001b[0m\u001b[0m_gca_resource\u001b[0m\u001b[0;34m,\u001b[0m\u001b[0;34m\u001b[0m\u001b[0;34m\u001b[0m\u001b[0m\n",
            "\u001b[0;32m/usr/local/lib/python3.8/dist-packages/google/cloud/aiplatform_v1/services/pipeline_service/client.py\u001b[0m in \u001b[0;36mcreate_pipeline_job\u001b[0;34m(self, request, parent, pipeline_job, pipeline_job_id, retry, timeout, metadata)\u001b[0m\n\u001b[1;32m   1345\u001b[0m \u001b[0;34m\u001b[0m\u001b[0m\n\u001b[1;32m   1346\u001b[0m         \u001b[0;31m# Send the request.\u001b[0m\u001b[0;34m\u001b[0m\u001b[0;34m\u001b[0m\u001b[0;34m\u001b[0m\u001b[0m\n\u001b[0;32m-> 1347\u001b[0;31m         response = rpc(\n\u001b[0m\u001b[1;32m   1348\u001b[0m             \u001b[0mrequest\u001b[0m\u001b[0;34m,\u001b[0m\u001b[0;34m\u001b[0m\u001b[0;34m\u001b[0m\u001b[0m\n\u001b[1;32m   1349\u001b[0m             \u001b[0mretry\u001b[0m\u001b[0;34m=\u001b[0m\u001b[0mretry\u001b[0m\u001b[0;34m,\u001b[0m\u001b[0;34m\u001b[0m\u001b[0;34m\u001b[0m\u001b[0m\n",
            "\u001b[0;32m/usr/local/lib/python3.8/dist-packages/google/api_core/gapic_v1/method.py\u001b[0m in \u001b[0;36m__call__\u001b[0;34m(self, timeout, retry, *args, **kwargs)\u001b[0m\n\u001b[1;32m    111\u001b[0m             \u001b[0mkwargs\u001b[0m\u001b[0;34m[\u001b[0m\u001b[0;34m\"metadata\"\u001b[0m\u001b[0;34m]\u001b[0m \u001b[0;34m=\u001b[0m \u001b[0mmetadata\u001b[0m\u001b[0;34m\u001b[0m\u001b[0;34m\u001b[0m\u001b[0m\n\u001b[1;32m    112\u001b[0m \u001b[0;34m\u001b[0m\u001b[0m\n\u001b[0;32m--> 113\u001b[0;31m         \u001b[0;32mreturn\u001b[0m \u001b[0mwrapped_func\u001b[0m\u001b[0;34m(\u001b[0m\u001b[0;34m*\u001b[0m\u001b[0margs\u001b[0m\u001b[0;34m,\u001b[0m \u001b[0;34m**\u001b[0m\u001b[0mkwargs\u001b[0m\u001b[0;34m)\u001b[0m\u001b[0;34m\u001b[0m\u001b[0;34m\u001b[0m\u001b[0m\n\u001b[0m\u001b[1;32m    114\u001b[0m \u001b[0;34m\u001b[0m\u001b[0m\n\u001b[1;32m    115\u001b[0m \u001b[0;34m\u001b[0m\u001b[0m\n",
            "\u001b[0;32m/usr/local/lib/python3.8/dist-packages/google/api_core/grpc_helpers.py\u001b[0m in \u001b[0;36merror_remapped_callable\u001b[0;34m(*args, **kwargs)\u001b[0m\n\u001b[1;32m     72\u001b[0m             \u001b[0;32mreturn\u001b[0m \u001b[0mcallable_\u001b[0m\u001b[0;34m(\u001b[0m\u001b[0;34m*\u001b[0m\u001b[0margs\u001b[0m\u001b[0;34m,\u001b[0m \u001b[0;34m**\u001b[0m\u001b[0mkwargs\u001b[0m\u001b[0;34m)\u001b[0m\u001b[0;34m\u001b[0m\u001b[0;34m\u001b[0m\u001b[0m\n\u001b[1;32m     73\u001b[0m         \u001b[0;32mexcept\u001b[0m \u001b[0mgrpc\u001b[0m\u001b[0;34m.\u001b[0m\u001b[0mRpcError\u001b[0m \u001b[0;32mas\u001b[0m \u001b[0mexc\u001b[0m\u001b[0;34m:\u001b[0m\u001b[0;34m\u001b[0m\u001b[0;34m\u001b[0m\u001b[0m\n\u001b[0;32m---> 74\u001b[0;31m             \u001b[0;32mraise\u001b[0m \u001b[0mexceptions\u001b[0m\u001b[0;34m.\u001b[0m\u001b[0mfrom_grpc_error\u001b[0m\u001b[0;34m(\u001b[0m\u001b[0mexc\u001b[0m\u001b[0;34m)\u001b[0m \u001b[0;32mfrom\u001b[0m \u001b[0mexc\u001b[0m\u001b[0;34m\u001b[0m\u001b[0;34m\u001b[0m\u001b[0m\n\u001b[0m\u001b[1;32m     75\u001b[0m \u001b[0;34m\u001b[0m\u001b[0m\n\u001b[1;32m     76\u001b[0m     \u001b[0;32mreturn\u001b[0m \u001b[0merror_remapped_callable\u001b[0m\u001b[0;34m\u001b[0m\u001b[0;34m\u001b[0m\u001b[0m\n",
            "\u001b[0;31mServiceUnavailable\u001b[0m: 503 Getting metadata from plugin failed with error: (\"Failed to retrieve http://metadata.google.internal/computeMetadata/v1/instance/service-accounts/default/?recursive=true from the Google Compute Engine metadata service. Status: 404 Response:\\nb''\", <google.auth.transport.requests._Response object at 0x7f431c6005e0>)"
          ]
        }
      ],
      "source": [
        "start_pipeline.run()"
      ]
    },
    {
      "cell_type": "markdown",
      "id": "dcb26db0",
      "metadata": {
        "id": "dcb26db0"
      },
      "source": [
        "### List all models "
      ]
    },
    {
      "cell_type": "code",
      "execution_count": null,
      "id": "8e9c6097",
      "metadata": {
        "id": "8e9c6097",
        "outputId": "e658eec8-9bd8-4dff-ef5f-023ff14e506f"
      },
      "outputs": [
        {
          "name": "stdout",
          "output_type": "stream",
          "text": [
            "Using endpoint [https://europe-west1-aiplatform.googleapis.com/]\n",
            "MODEL_ID             DISPLAY_NAME\n",
            "5893628615483981824  winequality\n",
            "9171123244302860288  winequality\n",
            "6865280235089166336  winequality\n"
          ]
        }
      ],
      "source": [
        "DISPLAY_NAME = \"winequality\"\n",
        "! gcloud ai models list --region={REGION} --filter={DISPLAY_NAME}"
      ]
    },
    {
      "cell_type": "markdown",
      "id": "a1de419e",
      "metadata": {
        "id": "a1de419e"
      },
      "source": [
        "### Schedule pipeline "
      ]
    },
    {
      "cell_type": "markdown",
      "id": "fbce39c8",
      "metadata": {
        "id": "fbce39c8"
      },
      "source": [
        "The scheduled jobs are supported by the Cloud Scheduler and Cloud Functions. \n",
        "Check that the APIs Cloud Scheduler, Cloud Functions are enabled. "
      ]
    },
    {
      "cell_type": "markdown",
      "id": "fa4d06b5",
      "metadata": {
        "id": "fa4d06b5"
      },
      "source": [
        "### Run recurrent pipeline"
      ]
    },
    {
      "cell_type": "code",
      "execution_count": null,
      "id": "c2cf02fc",
      "metadata": {
        "id": "c2cf02fc"
      },
      "outputs": [],
      "source": [
        "from kfp.v2.google.client import AIPlatformClient\n",
        "\n",
        "api_client = AIPlatformClient(\n",
        "                project_id=PROJECT_ID,\n",
        "                region=REGION,\n",
        "                )\n",
        "\n",
        "SERVICE_ACCOUNT = (\n",
        "    \"XXXXX-compute@developer.gserviceaccount.com\" \n",
        ")\n",
        "response = api_client.create_schedule_from_job_spec(\n",
        "    enable_caching=True,\n",
        "    job_spec_path=\"ml_winequality.json\",\n",
        "    schedule=\"0 0 * * 1\", //once per week on Monday\n",
        "    time_zone=\"Europe/Brussels\",  # change this as necessary\n",
        "    parameter_values={\"display_name\": DISPLAY_NAME},\n",
        "    pipeline_root=PIPELINE_ROOT,  # this argument is necessary if you did not specify PIPELINE_ROOT as part of the pipeline definition.\n",
        "    #service_account=SERVICE_ACCOUNT,\n",
        "    \n",
        ")\n"
      ]
    },
    {
      "cell_type": "markdown",
      "id": "3bfc56a4",
      "metadata": {
        "id": "3bfc56a4"
      },
      "source": [
        "Once the scheduled job is created, you can see it listed in the Cloud Scheduler panel in the Console."
      ]
    },
    {
      "cell_type": "markdown",
      "id": "cf61af7d",
      "metadata": {
        "id": "cf61af7d"
      },
      "source": [
        "### Test the batch prediction  "
      ]
    },
    {
      "cell_type": "code",
      "execution_count": null,
      "id": "e748c28b",
      "metadata": {
        "id": "e748c28b"
      },
      "outputs": [],
      "source": [
        "# Define variables \n",
        "job_display_name = \"winequality-batch-prediction-job\"\n",
        "MODEL_NAME=\"winequality\"\n",
        "ENDPOINT_NAME=\"winequality_endpoint\"\n",
        "BUCKET_URI=\"gs://your-bucket-winequality/pipeline_root_wine/332188XXXX/pipeline-winequality-20211227155508/get-wine-data_8271177375014715392\"\n",
        "input_file_name=\"test.csv\"\n",
        "\n",
        "# Get model id\n",
        "MODEL_ID=!(gcloud ai models list --region=$REGION \\\n",
        "           --filter=display_name=$MODEL_NAME)\n",
        "MODEL_ID=MODEL_ID[2].split(\" \")[0]\n",
        "\n",
        "model_resource_name = f'projects/{PROJECT_ID}/locations/{REGION}/models/{MODEL_ID}'\n",
        "gcs_source= [f\"{BUCKET_URI}/{input_file_name}\"]\n",
        "gcs_destination_prefix=f\"{BUCKET_URI}/output\"\n",
        "\n",
        "def batch_prediction_job(\n",
        "    project: str,\n",
        "    location: str,\n",
        "    model_resource_name: str,\n",
        "    job_display_name: str,\n",
        "    gcs_source: str,\n",
        "    gcs_destination_prefix: str,\n",
        "    machine_type: str,\n",
        "    starting_replica_count: int = 1, # The number of nodes for this batch prediction job. \n",
        "    max_replica_count: int = 1,    \n",
        "):   \n",
        "    aiplatform.init(project=project, location=location)\n",
        "\n",
        "    model = aiplatform.Model(model_resource_name)\n",
        "\n",
        "    batch_prediction_job = model.batch_predict(\n",
        "        job_display_name=job_display_name,\n",
        "        instances_format='csv', #json\n",
        "        gcs_source=[f\"{BUCKET_URI}/{input_file_name}\"],\n",
        "        gcs_destination_prefix=f\"{BUCKET_URI}/output\",\n",
        "        machine_type=machine_type, # must be present      \n",
        "    )\n",
        "    batch_prediction_job.wait()\n",
        "    print(batch_prediction_job.display_name)\n",
        "    print(batch_prediction_job.state)\n",
        "    return batch_prediction_job\n",
        "\n",
        "batch_prediction_job(PROJECT_ID, REGION, model_resource_name, job_display_name, gcs_source, gcs_destination_prefix, machine_type=\"n1-standard-2\")"
      ]
    },
    {
      "cell_type": "markdown",
      "id": "a14ebfea",
      "metadata": {
        "id": "a14ebfea"
      },
      "source": [
        "### Send an online prediction request\n",
        "Each prediction request must be max. 1.5 MB."
      ]
    },
    {
      "cell_type": "code",
      "execution_count": null,
      "id": "f69cd649",
      "metadata": {
        "id": "f69cd649",
        "outputId": "cf0af24d-3594-4d94-d7ad-3e56bb2b8065"
      },
      "outputs": [
        {
          "data": {
            "text/plain": [
              "Prediction(predictions=[0.0], deployed_model_id='5026685687215161344', explanations=None)"
            ]
          },
          "execution_count": 572,
          "metadata": {},
          "output_type": "execute_result"
        }
      ],
      "source": [
        "ENDPOINT_NAME=\"winequality_endpoint\"\n",
        "instance = [[1,2,3,2,1,2,3,6,7,10]]\n",
        "ENDPOINT_ID = !(gcloud ai endpoints list --region=$REGION \\\n",
        "              --format='value(ENDPOINT_ID)'\\\n",
        "              --filter=display_name=$ENDPOINT_NAME \\\n",
        "              --sort-by=creationTimeStamp | tail -1)\n",
        "ENDPOINT_ID = ENDPOINT_ID[1]\n",
        "\n",
        "def endpoint_predict(\n",
        "    project: str, location: str, instances: list, endpoint: str\n",
        "):\n",
        "    aiplatform.init(project=project, location=location)\n",
        "\n",
        "    endpoint = aiplatform.Endpoint(endpoint)\n",
        "\n",
        "    prediction = endpoint.predict(instances=instances)\n",
        "    return prediction\n",
        "\n",
        "endpoint_predict(PROJECT_ID, REGION, instance, ENDPOINT_ID)\n"
      ]
    }
  ],
  "metadata": {
    "environment": {
      "name": "tf2-gpu.2-3.m75",
      "type": "gcloud",
      "uri": "gcr.io/deeplearning-platform-release/tf2-gpu.2-3:m75"
    },
    "kernelspec": {
      "display_name": "vetex_env",
      "language": "python",
      "name": "vetex_env"
    },
    "language_info": {
      "codemirror_mode": {
        "name": "ipython",
        "version": 3
      },
      "file_extension": ".py",
      "mimetype": "text/x-python",
      "name": "python",
      "nbconvert_exporter": "python",
      "pygments_lexer": "ipython3",
      "version": "3.7.10"
    },
    "colab": {
      "provenance": []
    }
  },
  "nbformat": 4,
  "nbformat_minor": 5
}